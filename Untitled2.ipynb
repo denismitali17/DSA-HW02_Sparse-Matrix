{
  "cells": [
    {
      "cell_type": "markdown",
      "metadata": {
        "id": "view-in-github",
        "colab_type": "text"
      },
      "source": [
        "<a href=\"https://colab.research.google.com/github/denismitali17/DSA-HW02_Sparse-Matrix/blob/master/Untitled2.ipynb\" target=\"_parent\"><img src=\"https://colab.research.google.com/assets/colab-badge.svg\" alt=\"Open In Colab\"/></a>"
      ]
    },
    {
      "cell_type": "markdown",
      "metadata": {
        "id": "Qrb-noSWj12T"
      },
      "source": [
        "# Formative 3 - Probability Distributions, Bayesian Probability, and Gradient Descent Implementation\n",
        "We as group 10 will be working on a comprehensive assignment designed to deepen our understanding in probability and machine learning.\n",
        "\n",
        "This notebook presents our implementations and analysis for the following three components:\n",
        "\n",
        "Part 1: Binomial Distribution.\n",
        "\n",
        "Part 2: Bayesian Probability Application.\n",
        "\n",
        "Part 3: Gradien Descent for Linear Regression."
      ]
    },
    {
      "cell_type": "markdown",
      "metadata": {
        "id": "2aqP22h9j36q"
      },
      "source": [
        "**Part 1: Binomial Distribution – Pancreatic Cancer Risk Analysis**\n",
        "\n",
        "Problem Statement\n",
        "The lifetime risk of developing pancreatic cancer is about 1 in 78 (approximately 1.28%). Suppose we randomly sample 200 people. Let X be the number of people in this sample who will develop pancreatic cancer.\n",
        "\n",
        "1. Binomial Distribution for X\n",
        "Since each person either develops pancreatic cancer or does not, independently, and the probability of developing it is constant, the random variable X follows a Binomial distribution with\n",
        "\n",
        "with parameters:\n",
        "\n",
        "Number of trials:\n",
        "𝑛\n",
        "=\n",
        "200\n",
        "\n",
        "Probability of success (developing cancer):\n",
        "𝑝\n",
        "=\n",
        "1/78\n",
        "≈\n",
        "0.0128\n",
        "\n",
        "Using the formulas, calculate the (i) mean and (ii) standard deviation of X.\n",
        "\n",
        " find the probability that at most eight people develop pancreatic s\n",
        "\n",
        " is it more likely that five or six people will develop pancreatic cancer? Justify your answer numerically.\n"
      ]
    },
    {
      "cell_type": "markdown",
      "metadata": {
        "id": "_2HF3X0tkIdo"
      },
      "source": [
        "# Step 1: Define factorial and combination functions"
      ]
    },
    {
      "cell_type": "code",
      "execution_count": null,
      "metadata": {
        "id": "iq7cnwu-kLxt"
      },
      "outputs": [],
      "source": [
        "def factorial(n):\n",
        "    result = 1\n",
        "    for i in range(2, n+1):\n",
        "        result *= i\n",
        "    return result\n",
        "\n",
        "def combination(n, k):\n",
        "    return factorial(n) // (factorial(k) * factorial(n - k))"
      ]
    },
    {
      "cell_type": "markdown",
      "metadata": {
        "id": "DgC84J-tkMrO"
      },
      "source": [
        "#Step 2: Define binomial PMF function\n"
      ]
    },
    {
      "cell_type": "code",
      "execution_count": null,
      "metadata": {
        "id": "u0uc8zoKkRA1"
      },
      "outputs": [],
      "source": [
        "def binomial_pmf(n, k, p):\n",
        "    return combination(n, k) * (p ** k) * ((1 - p) ** (n - k))\n"
      ]
    },
    {
      "cell_type": "markdown",
      "metadata": {
        "id": "APDyMzvzk1JF"
      },
      "source": [
        "#Step 3: Calculate mean and standard deviation"
      ]
    },
    {
      "cell_type": "code",
      "execution_count": null,
      "metadata": {
        "colab": {
          "base_uri": "https://localhost:8080/"
        },
        "id": "_Mmwkxn1k5Gn",
        "outputId": "38f224a0-a30e-4f7b-faf4-3446ddc4f01e"
      },
      "outputs": [
        {
          "name": "stdout",
          "output_type": "stream",
          "text": [
            "Mean (expected number): 2.5641\n",
            "Standard deviation: 1.5910\n"
          ]
        }
      ],
      "source": [
        "n = 200\n",
        "p = 1 / 78  # approximately 0.0128\n",
        "\n",
        "mean = n * p\n",
        "std_dev = (n * p * (1 - p)) ** 0.5\n",
        "\n",
        "print(f\"Mean (expected number): {mean:.4f}\")\n",
        "print(f\"Standard deviation: {std_dev:.4f}\")\n"
      ]
    },
    {
      "cell_type": "markdown",
      "metadata": {
        "id": "0UlNCvD7lF5a"
      },
      "source": [
        "# Step 4: Calculate probability that at most 8 people develop pancreatic cancer"
      ]
    },
    {
      "cell_type": "code",
      "execution_count": null,
      "metadata": {
        "colab": {
          "base_uri": "https://localhost:8080/"
        },
        "id": "4BKnbupNlKaM",
        "outputId": "40714bf2-4d28-4d8a-b791-ef89b5f56293"
      },
      "outputs": [
        {
          "name": "stdout",
          "output_type": "stream",
          "text": [
            "Probability that at most 8 people develop pancreatic cancer: 0.99877\n"
          ]
        }
      ],
      "source": [
        "prob_at_most_8 = 0\n",
        "for k in range(0, 9):\n",
        "    prob_at_most_8 += binomial_pmf(n, k, p)\n",
        "\n",
        "print(f\"Probability that at most 8 people develop pancreatic cancer: {prob_at_most_8:.5f}\")"
      ]
    },
    {
      "cell_type": "markdown",
      "metadata": {
        "id": "S7o3-SoSnmUU"
      },
      "source": [
        "#Step 5: Compare probability of exactly 5 vs. 6 people developing pancreatic cancer\n",
        "\n"
      ]
    },
    {
      "cell_type": "code",
      "execution_count": null,
      "metadata": {
        "colab": {
          "base_uri": "https://localhost:8080/"
        },
        "id": "tqMQthtloAID",
        "outputId": "c5a6e749-72f7-4588-bc5b-299a7ddab7ac"
      },
      "outputs": [
        {
          "name": "stdout",
          "output_type": "stream",
          "text": [
            "P(X = 5): 0.07093\n",
            "P(X = 6): 0.02994\n",
            "It is more likely that 5 people will develop pancreatic cancer.\n"
          ]
        }
      ],
      "source": [
        "prob_5 = binomial_pmf(n, 5, p)\n",
        "prob_6 = binomial_pmf(n, 6, p)\n",
        "\n",
        "print(f\"P(X = 5): {prob_5:.5f}\")\n",
        "print(f\"P(X = 6): {prob_6:.5f}\")\n",
        "\n",
        "if prob_5 > prob_6:\n",
        "    print(\"It is more likely that 5 people will develop pancreatic cancer.\")\n",
        "else:\n",
        "    print(\"It is more likely that 6 people will develop pancreatic cancer.\")"
      ]
    },
    {
      "cell_type": "markdown",
      "metadata": {
        "id": "I7JCYkJloS-A"
      },
      "source": [
        "#Step 6: Visualize the distribution using Matplotlib"
      ]
    },
    {
      "cell_type": "code",
      "execution_count": null,
      "metadata": {
        "colab": {
          "base_uri": "https://localhost:8080/",
          "height": 564
        },
        "id": "dvU_Kd6qogUN",
        "outputId": "449db8da-edd4-4684-dd5d-8b4c2b515c7f"
      },
      "outputs": [
        {
          "data": {
            "image/png": "[encoded data removed]",
            "text/plain": [
              "<Figure size 1000x600 with 1 Axes>"
            ]
          },
          "metadata": {},
          "output_type": "display_data"
        }
      ],
      "source": [
        "import matplotlib.pyplot as plt\n",
        "\n",
        "# Choose k values around the mean for better visualization\n",
        "k_values = list(range(0, 16))\n",
        "probabilities = [binomial_pmf(n, k, p) for k in k_values]\n",
        "\n",
        "plt.figure(figsize=(10, 6))\n",
        "plt.bar(k_values, probabilities, color='skyblue', edgecolor='black')\n",
        "plt.xlabel('Number of People Developing Pancreatic Cancer (k)')\n",
        "plt.ylabel('Probability P(X = k)')\n",
        "plt.title(f'Binomial Distribution (n={n}, p={p:.4f}) - Pancreatic Cancer Risk')\n",
        "plt.grid(axis='y', linestyle='--', alpha=0.7)\n",
        "plt.show()"
      ]
    },
    {
      "cell_type": "markdown",
      "metadata": {
        "id": "-itsMfgEoIhL"
      },
      "source": []
    },
    {
      "cell_type": "markdown",
      "metadata": {
        "id": "zfu3vlusqJKc"
      },
      "source": [
        "**Part 2: Bayesian Probability**\n",
        "1. Real-World Problem\n",
        "Scenario:\n",
        "An insurance company has insured 4,000 doctors, 8,000 teachers, and 12,000 businessmen. The probability that a doctor, teacher, or businessman dies before the age of 58 is 0.01, 0.03, and 0.05, respectively.\n",
        "\n",
        "Question:\n",
        "\n",
        "If one of the insured individuals dies before 58, what is the probability that he is a doctor?"
      ]
    },
    {
      "cell_type": "markdown",
      "metadata": {
        "id": "-gjmmMPXqJKc"
      },
      "source": [
        "# Step 1: Priors"
      ]
    },
    {
      "cell_type": "code",
      "source": [
        "total = 4000 + 8000 + 12000\n",
        "P_D = 4000 / total\n",
        "P_T = 8000 / total\n",
        "P_B = 12000 / total"
      ],
      "metadata": {
        "id": "Vr4gUZ3rrbX5"
      },
      "execution_count": null,
      "outputs": []
    },
    {
      "cell_type": "markdown",
      "source": [
        "#Step 2: Likelihoods"
      ],
      "metadata": {
        "id": "ZDnBlh-Xsgf6"
      }
    },
    {
      "cell_type": "code",
      "source": [
        "P_Death_given_D = 0.01\n",
        "P_Death_given_T = 0.03\n",
        "P_Death_given_B = 0.05"
      ],
      "metadata": {
        "id": "xl1xBaS5ssN7"
      },
      "execution_count": 9,
      "outputs": []
    },
    {
      "cell_type": "markdown",
      "source": [
        "#Step 3: Total Probability of Death"
      ],
      "metadata": {
        "id": "UdzeWUrnswEO"
      }
    },
    {
      "cell_type": "code",
      "source": [
        "P_Death = (P_D * P_Death_given_D) + (P_T * P_Death_given_T) + (P_B * P_Death_given_B)"
      ],
      "metadata": {
        "id": "ePTmBML7s0Cc"
      },
      "execution_count": 10,
      "outputs": []
    }
  ],
  "metadata": {
    "colab": {
      "provenance": [],
      "include_colab_link": true
    },
    "kernelspec": {
      "display_name": "Python 3",
      "name": "python3"
    },
    "language_info": {
      "name": "python"
    }
  },
  "nbformat": 4,
  "nbformat_minor": 0
}